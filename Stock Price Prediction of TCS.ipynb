{
 "cells": [
  {
   "cell_type": "markdown",
   "id": "a6b21dc7",
   "metadata": {},
   "source": [
    "# Stock Price Prediction And Forecasting Using Stacked LSTM"
   ]
  },
  {
   "cell_type": "markdown",
   "id": "04e42f40",
   "metadata": {},
   "source": [
    "Libraries"
   ]
  },
  {
   "cell_type": "code",
   "execution_count": 3,
   "id": "eeb7c290",
   "metadata": {},
   "outputs": [],
   "source": [
    "import math\n",
    "import numpy as np\n",
    "import pandas_datareader as pdr\n",
    "import pandas as pd\n",
    "from sklearn.preprocessing import MinMaxScaler\n",
    "from sklearn.metrics import mean_squared_error\n"
   ]
  },
  {
   "cell_type": "code",
   "execution_count": 4,
   "id": "d03c9a95",
   "metadata": {},
   "outputs": [],
   "source": [
    " df = pd.read_csv(r\"C:\\Users\\priya\\Downloads\\archive (9)\\TCS.csv\")"
   ]
  },
  {
   "cell_type": "code",
   "execution_count": 5,
   "id": "32573552",
   "metadata": {},
   "outputs": [
    {
     "data": {
      "text/html": [
       "<div>\n",
       "<style scoped>\n",
       "    .dataframe tbody tr th:only-of-type {\n",
       "        vertical-align: middle;\n",
       "    }\n",
       "\n",
       "    .dataframe tbody tr th {\n",
       "        vertical-align: top;\n",
       "    }\n",
       "\n",
       "    .dataframe thead th {\n",
       "        text-align: right;\n",
       "    }\n",
       "</style>\n",
       "<table border=\"1\" class=\"dataframe\">\n",
       "  <thead>\n",
       "    <tr style=\"text-align: right;\">\n",
       "      <th></th>\n",
       "      <th>Date</th>\n",
       "      <th>Symbol</th>\n",
       "      <th>Series</th>\n",
       "      <th>Prev Close</th>\n",
       "      <th>Open</th>\n",
       "      <th>High</th>\n",
       "      <th>Low</th>\n",
       "      <th>Last</th>\n",
       "      <th>Close</th>\n",
       "      <th>VWAP</th>\n",
       "      <th>Volume</th>\n",
       "      <th>Turnover</th>\n",
       "      <th>Trades</th>\n",
       "      <th>Deliverable Volume</th>\n",
       "      <th>%Deliverble</th>\n",
       "    </tr>\n",
       "  </thead>\n",
       "  <tbody>\n",
       "    <tr>\n",
       "      <th>0</th>\n",
       "      <td>2004-08-25</td>\n",
       "      <td>TCS</td>\n",
       "      <td>EQ</td>\n",
       "      <td>850.00</td>\n",
       "      <td>1198.7</td>\n",
       "      <td>1198.7</td>\n",
       "      <td>979.00</td>\n",
       "      <td>985.00</td>\n",
       "      <td>987.95</td>\n",
       "      <td>1008.32</td>\n",
       "      <td>17116372</td>\n",
       "      <td>1.725876e+15</td>\n",
       "      <td>NaN</td>\n",
       "      <td>5206360</td>\n",
       "      <td>0.3042</td>\n",
       "    </tr>\n",
       "    <tr>\n",
       "      <th>1</th>\n",
       "      <td>2004-08-26</td>\n",
       "      <td>TCS</td>\n",
       "      <td>EQ</td>\n",
       "      <td>987.95</td>\n",
       "      <td>992.0</td>\n",
       "      <td>997.0</td>\n",
       "      <td>975.30</td>\n",
       "      <td>976.85</td>\n",
       "      <td>979.00</td>\n",
       "      <td>985.65</td>\n",
       "      <td>5055400</td>\n",
       "      <td>4.982865e+14</td>\n",
       "      <td>NaN</td>\n",
       "      <td>1294899</td>\n",
       "      <td>0.2561</td>\n",
       "    </tr>\n",
       "    <tr>\n",
       "      <th>2</th>\n",
       "      <td>2004-08-27</td>\n",
       "      <td>TCS</td>\n",
       "      <td>EQ</td>\n",
       "      <td>979.00</td>\n",
       "      <td>982.4</td>\n",
       "      <td>982.4</td>\n",
       "      <td>958.55</td>\n",
       "      <td>961.20</td>\n",
       "      <td>962.65</td>\n",
       "      <td>969.94</td>\n",
       "      <td>3830750</td>\n",
       "      <td>3.715586e+14</td>\n",
       "      <td>NaN</td>\n",
       "      <td>976527</td>\n",
       "      <td>0.2549</td>\n",
       "    </tr>\n",
       "    <tr>\n",
       "      <th>3</th>\n",
       "      <td>2004-08-30</td>\n",
       "      <td>TCS</td>\n",
       "      <td>EQ</td>\n",
       "      <td>962.65</td>\n",
       "      <td>969.9</td>\n",
       "      <td>990.0</td>\n",
       "      <td>965.00</td>\n",
       "      <td>986.40</td>\n",
       "      <td>986.75</td>\n",
       "      <td>982.65</td>\n",
       "      <td>3058151</td>\n",
       "      <td>3.005106e+14</td>\n",
       "      <td>NaN</td>\n",
       "      <td>701664</td>\n",
       "      <td>0.2294</td>\n",
       "    </tr>\n",
       "    <tr>\n",
       "      <th>4</th>\n",
       "      <td>2004-08-31</td>\n",
       "      <td>TCS</td>\n",
       "      <td>EQ</td>\n",
       "      <td>986.75</td>\n",
       "      <td>986.5</td>\n",
       "      <td>990.0</td>\n",
       "      <td>976.00</td>\n",
       "      <td>987.80</td>\n",
       "      <td>988.10</td>\n",
       "      <td>982.18</td>\n",
       "      <td>2649332</td>\n",
       "      <td>2.602133e+14</td>\n",
       "      <td>NaN</td>\n",
       "      <td>695234</td>\n",
       "      <td>0.2624</td>\n",
       "    </tr>\n",
       "  </tbody>\n",
       "</table>\n",
       "</div>"
      ],
      "text/plain": [
       "         Date Symbol Series  Prev Close    Open    High     Low    Last  \\\n",
       "0  2004-08-25    TCS     EQ      850.00  1198.7  1198.7  979.00  985.00   \n",
       "1  2004-08-26    TCS     EQ      987.95   992.0   997.0  975.30  976.85   \n",
       "2  2004-08-27    TCS     EQ      979.00   982.4   982.4  958.55  961.20   \n",
       "3  2004-08-30    TCS     EQ      962.65   969.9   990.0  965.00  986.40   \n",
       "4  2004-08-31    TCS     EQ      986.75   986.5   990.0  976.00  987.80   \n",
       "\n",
       "    Close     VWAP    Volume      Turnover  Trades  Deliverable Volume  \\\n",
       "0  987.95  1008.32  17116372  1.725876e+15     NaN             5206360   \n",
       "1  979.00   985.65   5055400  4.982865e+14     NaN             1294899   \n",
       "2  962.65   969.94   3830750  3.715586e+14     NaN              976527   \n",
       "3  986.75   982.65   3058151  3.005106e+14     NaN              701664   \n",
       "4  988.10   982.18   2649332  2.602133e+14     NaN              695234   \n",
       "\n",
       "   %Deliverble  \n",
       "0       0.3042  \n",
       "1       0.2561  \n",
       "2       0.2549  \n",
       "3       0.2294  \n",
       "4       0.2624  "
      ]
     },
     "execution_count": 5,
     "metadata": {},
     "output_type": "execute_result"
    }
   ],
   "source": [
    "df.head()"
   ]
  },
  {
   "cell_type": "code",
   "execution_count": 6,
   "id": "3e3897ad",
   "metadata": {},
   "outputs": [
    {
     "data": {
      "text/html": [
       "<div>\n",
       "<style scoped>\n",
       "    .dataframe tbody tr th:only-of-type {\n",
       "        vertical-align: middle;\n",
       "    }\n",
       "\n",
       "    .dataframe tbody tr th {\n",
       "        vertical-align: top;\n",
       "    }\n",
       "\n",
       "    .dataframe thead th {\n",
       "        text-align: right;\n",
       "    }\n",
       "</style>\n",
       "<table border=\"1\" class=\"dataframe\">\n",
       "  <thead>\n",
       "    <tr style=\"text-align: right;\">\n",
       "      <th></th>\n",
       "      <th>Date</th>\n",
       "      <th>Symbol</th>\n",
       "      <th>Series</th>\n",
       "      <th>Prev Close</th>\n",
       "      <th>Open</th>\n",
       "      <th>High</th>\n",
       "      <th>Low</th>\n",
       "      <th>Last</th>\n",
       "      <th>Close</th>\n",
       "      <th>VWAP</th>\n",
       "      <th>Volume</th>\n",
       "      <th>Turnover</th>\n",
       "      <th>Trades</th>\n",
       "      <th>Deliverable Volume</th>\n",
       "      <th>%Deliverble</th>\n",
       "    </tr>\n",
       "  </thead>\n",
       "  <tbody>\n",
       "    <tr>\n",
       "      <th>4134</th>\n",
       "      <td>2021-04-26</td>\n",
       "      <td>TCS</td>\n",
       "      <td>EQ</td>\n",
       "      <td>3109.50</td>\n",
       "      <td>3102.05</td>\n",
       "      <td>3153.00</td>\n",
       "      <td>3088.05</td>\n",
       "      <td>3100.05</td>\n",
       "      <td>3100.80</td>\n",
       "      <td>3122.35</td>\n",
       "      <td>2490260</td>\n",
       "      <td>7.775465e+14</td>\n",
       "      <td>87012.0</td>\n",
       "      <td>1345353</td>\n",
       "      <td>0.5402</td>\n",
       "    </tr>\n",
       "    <tr>\n",
       "      <th>4135</th>\n",
       "      <td>2021-04-27</td>\n",
       "      <td>TCS</td>\n",
       "      <td>EQ</td>\n",
       "      <td>3100.80</td>\n",
       "      <td>3106.00</td>\n",
       "      <td>3136.10</td>\n",
       "      <td>3103.00</td>\n",
       "      <td>3132.75</td>\n",
       "      <td>3132.00</td>\n",
       "      <td>3122.18</td>\n",
       "      <td>1471417</td>\n",
       "      <td>4.594036e+14</td>\n",
       "      <td>97077.0</td>\n",
       "      <td>849767</td>\n",
       "      <td>0.5775</td>\n",
       "    </tr>\n",
       "    <tr>\n",
       "      <th>4136</th>\n",
       "      <td>2021-04-28</td>\n",
       "      <td>TCS</td>\n",
       "      <td>EQ</td>\n",
       "      <td>3132.00</td>\n",
       "      <td>3149.95</td>\n",
       "      <td>3151.00</td>\n",
       "      <td>3112.00</td>\n",
       "      <td>3123.00</td>\n",
       "      <td>3124.10</td>\n",
       "      <td>3125.72</td>\n",
       "      <td>1639037</td>\n",
       "      <td>5.123176e+14</td>\n",
       "      <td>76017.0</td>\n",
       "      <td>847762</td>\n",
       "      <td>0.5172</td>\n",
       "    </tr>\n",
       "    <tr>\n",
       "      <th>4137</th>\n",
       "      <td>2021-04-29</td>\n",
       "      <td>TCS</td>\n",
       "      <td>EQ</td>\n",
       "      <td>3124.10</td>\n",
       "      <td>3145.60</td>\n",
       "      <td>3157.35</td>\n",
       "      <td>3105.50</td>\n",
       "      <td>3114.45</td>\n",
       "      <td>3115.25</td>\n",
       "      <td>3130.83</td>\n",
       "      <td>1621395</td>\n",
       "      <td>5.076306e+14</td>\n",
       "      <td>98275.0</td>\n",
       "      <td>837567</td>\n",
       "      <td>0.5166</td>\n",
       "    </tr>\n",
       "    <tr>\n",
       "      <th>4138</th>\n",
       "      <td>2021-04-30</td>\n",
       "      <td>TCS</td>\n",
       "      <td>EQ</td>\n",
       "      <td>3115.25</td>\n",
       "      <td>3099.00</td>\n",
       "      <td>3132.05</td>\n",
       "      <td>3020.00</td>\n",
       "      <td>3040.00</td>\n",
       "      <td>3035.65</td>\n",
       "      <td>3063.19</td>\n",
       "      <td>3072305</td>\n",
       "      <td>9.411057e+14</td>\n",
       "      <td>157829.0</td>\n",
       "      <td>1942473</td>\n",
       "      <td>0.6323</td>\n",
       "    </tr>\n",
       "  </tbody>\n",
       "</table>\n",
       "</div>"
      ],
      "text/plain": [
       "            Date Symbol Series  Prev Close     Open     High      Low  \\\n",
       "4134  2021-04-26    TCS     EQ     3109.50  3102.05  3153.00  3088.05   \n",
       "4135  2021-04-27    TCS     EQ     3100.80  3106.00  3136.10  3103.00   \n",
       "4136  2021-04-28    TCS     EQ     3132.00  3149.95  3151.00  3112.00   \n",
       "4137  2021-04-29    TCS     EQ     3124.10  3145.60  3157.35  3105.50   \n",
       "4138  2021-04-30    TCS     EQ     3115.25  3099.00  3132.05  3020.00   \n",
       "\n",
       "         Last    Close     VWAP   Volume      Turnover    Trades  \\\n",
       "4134  3100.05  3100.80  3122.35  2490260  7.775465e+14   87012.0   \n",
       "4135  3132.75  3132.00  3122.18  1471417  4.594036e+14   97077.0   \n",
       "4136  3123.00  3124.10  3125.72  1639037  5.123176e+14   76017.0   \n",
       "4137  3114.45  3115.25  3130.83  1621395  5.076306e+14   98275.0   \n",
       "4138  3040.00  3035.65  3063.19  3072305  9.411057e+14  157829.0   \n",
       "\n",
       "      Deliverable Volume  %Deliverble  \n",
       "4134             1345353       0.5402  \n",
       "4135              849767       0.5775  \n",
       "4136              847762       0.5172  \n",
       "4137              837567       0.5166  \n",
       "4138             1942473       0.6323  "
      ]
     },
     "execution_count": 6,
     "metadata": {},
     "output_type": "execute_result"
    }
   ],
   "source": [
    "df.tail()"
   ]
  },
  {
   "cell_type": "code",
   "execution_count": 7,
   "id": "cd253e03",
   "metadata": {},
   "outputs": [],
   "source": [
    "df1=df.reset_index()['Close']"
   ]
  },
  {
   "cell_type": "code",
   "execution_count": 8,
   "id": "520e7c5b",
   "metadata": {},
   "outputs": [
    {
     "data": {
      "text/plain": [
       "(4139,)"
      ]
     },
     "execution_count": 8,
     "metadata": {},
     "output_type": "execute_result"
    }
   ],
   "source": [
    "df1.shape"
   ]
  },
  {
   "cell_type": "code",
   "execution_count": 9,
   "id": "a5a255ff",
   "metadata": {},
   "outputs": [
    {
     "data": {
      "text/plain": [
       "[<matplotlib.lines.Line2D at 0x2bb3677ba90>]"
      ]
     },
     "execution_count": 9,
     "metadata": {},
     "output_type": "execute_result"
    },
    {
     "data": {
      "image/png": "[encoded data removed]",
      "text/plain": [
       "<Figure size 640x480 with 1 Axes>"
      ]
     },
     "metadata": {},
     "output_type": "display_data"
    }
   ],
   "source": [
    "import matplotlib.pyplot as plt\n",
    "plt.plot(df1)"
   ]
  },
  {
   "cell_type": "code",
   "execution_count": 10,
   "id": "4230bc7c",
   "metadata": {},
   "outputs": [],
   "source": [
    "import numpy as np"
   ]
  },
  {
   "cell_type": "markdown",
   "id": "b0d08a6a",
   "metadata": {},
   "source": [
    "# Spliting in to Train data and Test data"
   ]
  },
  {
   "cell_type": "code",
   "execution_count": 11,
   "id": "5b173b8f",
   "metadata": {},
   "outputs": [],
   "source": [
    "from sklearn.preprocessing import MinMaxScaler\n",
    "scaler=MinMaxScaler(feature_range=(0,1))\n",
    "df1=scaler.fit_transform(np.array(df1).reshape(-1,1))"
   ]
  },
  {
   "cell_type": "code",
   "execution_count": 12,
   "id": "73c577e0",
   "metadata": {},
   "outputs": [
    {
     "data": {
      "text/plain": [
       "(4139, 15)"
      ]
     },
     "execution_count": 12,
     "metadata": {},
     "output_type": "execute_result"
    }
   ],
   "source": [
    "df.shape"
   ]
  },
  {
   "cell_type": "code",
   "execution_count": 13,
   "id": "5238df50",
   "metadata": {},
   "outputs": [
    {
     "data": {
      "text/plain": [
       "array([[0.19193401],\n",
       "       [0.18916915],\n",
       "       [0.18411826],\n",
       "       ...,\n",
       "       [0.85184041],\n",
       "       [0.84910644],\n",
       "       [0.82451615]])"
      ]
     },
     "execution_count": 13,
     "metadata": {},
     "output_type": "execute_result"
    }
   ],
   "source": [
    "df1"
   ]
  },
  {
   "cell_type": "code",
   "execution_count": 14,
   "id": "714beccc",
   "metadata": {},
   "outputs": [],
   "source": [
    "training_size=int(len(df1)*0.65)\n",
    "test_size=len(df1)-training_size\n",
    "train_data,test_data=df1[0:training_size,:],df1[training_size:len(df1),:1]"
   ]
  },
  {
   "cell_type": "code",
   "execution_count": 15,
   "id": "fc8d88f7",
   "metadata": {},
   "outputs": [
    {
     "data": {
      "text/plain": [
       "(2690, 1449)"
      ]
     },
     "execution_count": 15,
     "metadata": {},
     "output_type": "execute_result"
    }
   ],
   "source": [
    "training_size,test_size"
   ]
  },
  {
   "cell_type": "code",
   "execution_count": 16,
   "id": "9b131658",
   "metadata": {},
   "outputs": [],
   "source": [
    "import numpy"
   ]
  },
  {
   "cell_type": "markdown",
   "id": "069bc71e",
   "metadata": {},
   "source": [
    "# converting a value of array in to dataset matrix"
   ]
  },
  {
   "cell_type": "code",
   "execution_count": 17,
   "id": "7017c3a2",
   "metadata": {},
   "outputs": [],
   "source": [
    "def create_dataset(dataset,time_step=1):\n",
    "    dataX,dataY=[],[]\n",
    "    for i in range(len(dataset)-time_step-1):\n",
    "        a=dataset[i:(i+time_step),0]\n",
    "        dataX.append(a)\n",
    "        dataY.append(dataset[i+time_step,0])\n",
    "    return numpy.array(dataX), numpy.array(dataY)"
   ]
  },
  {
   "cell_type": "code",
   "execution_count": 18,
   "id": "c320f20c",
   "metadata": {},
   "outputs": [],
   "source": [
    "time_step = 100\n",
    "X_train, y_train = create_dataset(train_data,time_step)\n",
    "X_test, y_test = create_dataset(test_data, time_step)"
   ]
  },
  {
   "cell_type": "code",
   "execution_count": 19,
   "id": "059fc842",
   "metadata": {},
   "outputs": [
    {
     "name": "stdout",
     "output_type": "stream",
     "text": [
      "[[0.19193401 0.18916915 0.18411826 ... 0.28773111 0.28614016 0.28722139]\n",
      " [0.18916915 0.18411826 0.19156331 ... 0.28614016 0.28722139 0.27698058]\n",
      " [0.18411826 0.19156331 0.19198035 ... 0.28722139 0.27698058 0.27716594]\n",
      " ...\n",
      " [0.65918043 0.66330455 0.66322732 ... 0.66083317 0.66052424 0.66274849]\n",
      " [0.66330455 0.66322732 0.66015353 ... 0.66052424 0.66274849 0.66330455]\n",
      " [0.66322732 0.66015353 0.6596747  ... 0.66274849 0.66330455 0.66832455]]\n"
     ]
    }
   ],
   "source": [
    "print(X_train)"
   ]
  },
  {
   "cell_type": "code",
   "execution_count": 20,
   "id": "d0bdbfc6",
   "metadata": {},
   "outputs": [
    {
     "name": "stdout",
     "output_type": "stream",
     "text": [
      "(1348, 100)\n",
      "(1348,)\n"
     ]
    },
    {
     "data": {
      "text/plain": [
       "(None, None)"
      ]
     },
     "execution_count": 20,
     "metadata": {},
     "output_type": "execute_result"
    }
   ],
   "source": [
    "print(X_test.shape),print(y_test.shape)"
   ]
  },
  {
   "cell_type": "code",
   "execution_count": 21,
   "id": "df2f3de8",
   "metadata": {},
   "outputs": [],
   "source": [
    "X_train = X_train.reshape(X_train.shape[0],X_train.shape[1],1)\n",
    "X_test = X_test.reshape(X_test.shape[0],X_test.shape[1], 1)"
   ]
  },
  {
   "cell_type": "code",
   "execution_count": 22,
   "id": "820e50df",
   "metadata": {},
   "outputs": [],
   "source": [
    "from tensorflow.keras.models import Sequential\n",
    "from tensorflow.keras.layers import Dense\n",
    "from tensorflow.keras.layers import LSTM"
   ]
  },
  {
   "cell_type": "code",
   "execution_count": 23,
   "id": "c743779d",
   "metadata": {},
   "outputs": [],
   "source": [
    "model=Sequential()\n",
    "model.add(LSTM(50,return_sequences=True,input_shape=(100,1)))\n",
    "model.add(LSTM(50,return_sequences=True))\n",
    "model.add(LSTM(50))\n",
    "model.add(Dense(1))\n",
    "model.compile(loss='mean_squared_error',optimizer='adam')"
   ]
  },
  {
   "cell_type": "code",
   "execution_count": 24,
   "id": "1fd4e7eb",
   "metadata": {},
   "outputs": [
    {
     "name": "stdout",
     "output_type": "stream",
     "text": [
      "Model: \"sequential\"\n",
      "_________________________________________________________________\n",
      " Layer (type)                Output Shape              Param #   \n",
      "=================================================================\n",
      " lstm (LSTM)                 (None, 100, 50)           10400     \n",
      "                                                                 \n",
      " lstm_1 (LSTM)               (None, 100, 50)           20200     \n",
      "                                                                 \n",
      " lstm_2 (LSTM)               (None, 50)                20200     \n",
      "                                                                 \n",
      " dense (Dense)               (None, 1)                 51        \n",
      "                                                                 \n",
      "=================================================================\n",
      "Total params: 50851 (198.64 KB)\n",
      "Trainable params: 50851 (198.64 KB)\n",
      "Non-trainable params: 0 (0.00 Byte)\n",
      "_________________________________________________________________\n"
     ]
    }
   ],
   "source": [
    "model.summary()"
   ]
  },
  {
   "cell_type": "code",
   "execution_count": 25,
   "id": "df31ab29",
   "metadata": {},
   "outputs": [
    {
     "name": "stdout",
     "output_type": "stream",
     "text": [
      "Epoch 1/100\n",
      "41/41 [==============================] - 95s 2s/step - loss: 0.0116 - val_loss: 0.0036\n",
      "Epoch 2/100\n",
      "41/41 [==============================] - 38s 924ms/step - loss: 7.8258e-04 - val_loss: 0.0029\n",
      "Epoch 3/100\n",
      "41/41 [==============================] - 38s 922ms/step - loss: 6.9413e-04 - val_loss: 0.0027\n",
      "Epoch 4/100\n",
      "41/41 [==============================] - 28s 690ms/step - loss: 6.9525e-04 - val_loss: 0.0026\n",
      "Epoch 5/100\n",
      "41/41 [==============================] - 30s 725ms/step - loss: 6.4864e-04 - val_loss: 0.0027\n",
      "Epoch 6/100\n",
      "41/41 [==============================] - 31s 751ms/step - loss: 6.2351e-04 - val_loss: 0.0023\n",
      "Epoch 7/100\n",
      "41/41 [==============================] - 43s 1s/step - loss: 6.1692e-04 - val_loss: 0.0022\n",
      "Epoch 8/100\n",
      "41/41 [==============================] - 30s 736ms/step - loss: 6.2450e-04 - val_loss: 0.0026\n",
      "Epoch 9/100\n",
      "41/41 [==============================] - 32s 780ms/step - loss: 6.0403e-04 - val_loss: 0.0022\n",
      "Epoch 10/100\n",
      "41/41 [==============================] - 28s 678ms/step - loss: 5.3984e-04 - val_loss: 0.0018\n",
      "Epoch 11/100\n",
      "41/41 [==============================] - 30s 738ms/step - loss: 4.9200e-04 - val_loss: 0.0018\n",
      "Epoch 12/100\n",
      "41/41 [==============================] - 30s 744ms/step - loss: 5.0610e-04 - val_loss: 0.0018\n",
      "Epoch 13/100\n",
      "41/41 [==============================] - 36s 878ms/step - loss: 5.1301e-04 - val_loss: 0.0016\n",
      "Epoch 14/100\n",
      "41/41 [==============================] - 33s 815ms/step - loss: 5.0598e-04 - val_loss: 0.0022\n",
      "Epoch 15/100\n",
      "41/41 [==============================] - 38s 929ms/step - loss: 4.4070e-04 - val_loss: 0.0014\n",
      "Epoch 16/100\n",
      "41/41 [==============================] - 30s 735ms/step - loss: 3.9937e-04 - val_loss: 0.0014\n",
      "Epoch 17/100\n",
      "41/41 [==============================] - 31s 762ms/step - loss: 3.8503e-04 - val_loss: 0.0013\n",
      "Epoch 18/100\n",
      "41/41 [==============================] - 29s 701ms/step - loss: 3.9913e-04 - val_loss: 0.0014\n",
      "Epoch 19/100\n",
      "41/41 [==============================] - 28s 689ms/step - loss: 3.9579e-04 - val_loss: 0.0017\n",
      "Epoch 20/100\n",
      "41/41 [==============================] - 28s 690ms/step - loss: 3.7314e-04 - val_loss: 0.0012\n",
      "Epoch 21/100\n",
      "41/41 [==============================] - 28s 677ms/step - loss: 3.6102e-04 - val_loss: 0.0013\n",
      "Epoch 22/100\n",
      "41/41 [==============================] - 28s 675ms/step - loss: 3.5572e-04 - val_loss: 0.0013\n",
      "Epoch 23/100\n",
      "41/41 [==============================] - 28s 674ms/step - loss: 3.3488e-04 - val_loss: 0.0011\n",
      "Epoch 24/100\n",
      "41/41 [==============================] - 28s 677ms/step - loss: 3.2779e-04 - val_loss: 0.0012\n",
      "Epoch 25/100\n",
      "41/41 [==============================] - 28s 690ms/step - loss: 3.3524e-04 - val_loss: 0.0015\n",
      "Epoch 26/100\n",
      "41/41 [==============================] - 28s 676ms/step - loss: 3.3353e-04 - val_loss: 9.6483e-04\n",
      "Epoch 27/100\n",
      "41/41 [==============================] - 27s 673ms/step - loss: 3.2787e-04 - val_loss: 0.0010\n",
      "Epoch 28/100\n",
      "41/41 [==============================] - 28s 690ms/step - loss: 3.1126e-04 - val_loss: 0.0013\n",
      "Epoch 29/100\n",
      "41/41 [==============================] - 34s 840ms/step - loss: 3.1545e-04 - val_loss: 8.6193e-04\n",
      "Epoch 30/100\n",
      "41/41 [==============================] - 30s 715ms/step - loss: 3.0134e-04 - val_loss: 9.6425e-04\n",
      "Epoch 31/100\n",
      "41/41 [==============================] - 28s 688ms/step - loss: 2.8337e-04 - val_loss: 8.9325e-04\n",
      "Epoch 32/100\n",
      "41/41 [==============================] - 27s 657ms/step - loss: 3.0282e-04 - val_loss: 9.0867e-04\n",
      "Epoch 33/100\n",
      "41/41 [==============================] - 28s 677ms/step - loss: 2.8887e-04 - val_loss: 8.2305e-04\n",
      "Epoch 34/100\n",
      "41/41 [==============================] - 27s 667ms/step - loss: 2.7692e-04 - val_loss: 8.8348e-04\n",
      "Epoch 35/100\n",
      "41/41 [==============================] - 28s 679ms/step - loss: 2.6374e-04 - val_loss: 7.1623e-04\n",
      "Epoch 36/100\n",
      "41/41 [==============================] - 27s 651ms/step - loss: 2.6734e-04 - val_loss: 6.9000e-04\n",
      "Epoch 37/100\n",
      "41/41 [==============================] - 26s 634ms/step - loss: 2.3727e-04 - val_loss: 6.8387e-04\n",
      "Epoch 38/100\n",
      "41/41 [==============================] - 25s 618ms/step - loss: 2.2946e-04 - val_loss: 7.3417e-04\n",
      "Epoch 39/100\n",
      "41/41 [==============================] - 25s 622ms/step - loss: 2.9445e-04 - val_loss: 6.4205e-04\n",
      "Epoch 40/100\n",
      "41/41 [==============================] - 26s 631ms/step - loss: 2.8301e-04 - val_loss: 6.8678e-04\n",
      "Epoch 41/100\n",
      "41/41 [==============================] - 26s 628ms/step - loss: 2.2315e-04 - val_loss: 6.2752e-04\n",
      "Epoch 42/100\n",
      "41/41 [==============================] - 26s 630ms/step - loss: 2.0945e-04 - val_loss: 6.0611e-04\n",
      "Epoch 43/100\n",
      "41/41 [==============================] - 26s 625ms/step - loss: 2.3446e-04 - val_loss: 5.8102e-04\n",
      "Epoch 44/100\n",
      "41/41 [==============================] - 25s 623ms/step - loss: 2.3442e-04 - val_loss: 7.6797e-04\n",
      "Epoch 45/100\n",
      "41/41 [==============================] - 26s 630ms/step - loss: 2.3344e-04 - val_loss: 8.0320e-04\n",
      "Epoch 46/100\n",
      "41/41 [==============================] - 25s 620ms/step - loss: 2.1862e-04 - val_loss: 6.2318e-04\n",
      "Epoch 47/100\n",
      "41/41 [==============================] - 26s 633ms/step - loss: 1.9728e-04 - val_loss: 5.1223e-04\n",
      "Epoch 48/100\n",
      "41/41 [==============================] - 25s 620ms/step - loss: 2.0567e-04 - val_loss: 5.6646e-04\n",
      "Epoch 49/100\n",
      "41/41 [==============================] - 25s 617ms/step - loss: 2.0190e-04 - val_loss: 7.0334e-04\n",
      "Epoch 50/100\n",
      "41/41 [==============================] - 25s 616ms/step - loss: 2.0087e-04 - val_loss: 5.7567e-04\n",
      "Epoch 51/100\n",
      "41/41 [==============================] - 25s 609ms/step - loss: 1.8585e-04 - val_loss: 0.0011\n",
      "Epoch 52/100\n",
      "41/41 [==============================] - 25s 614ms/step - loss: 2.6327e-04 - val_loss: 5.2924e-04\n",
      "Epoch 53/100\n",
      "41/41 [==============================] - 27s 663ms/step - loss: 1.9999e-04 - val_loss: 5.5862e-04\n",
      "Epoch 54/100\n",
      "41/41 [==============================] - 328s 8s/step - loss: 1.8715e-04 - val_loss: 5.3126e-04\n",
      "Epoch 55/100\n",
      "41/41 [==============================] - 39s 949ms/step - loss: 1.8585e-04 - val_loss: 5.3586e-04\n",
      "Epoch 56/100\n",
      "41/41 [==============================] - 29s 703ms/step - loss: 1.6369e-04 - val_loss: 4.5419e-04\n",
      "Epoch 57/100\n",
      "41/41 [==============================] - 28s 675ms/step - loss: 1.8983e-04 - val_loss: 4.8435e-04\n",
      "Epoch 58/100\n",
      "41/41 [==============================] - 28s 685ms/step - loss: 2.1309e-04 - val_loss: 5.7353e-04\n",
      "Epoch 59/100\n",
      "41/41 [==============================] - 28s 685ms/step - loss: 1.5798e-04 - val_loss: 4.1572e-04\n",
      "Epoch 60/100\n",
      "41/41 [==============================] - 28s 695ms/step - loss: 1.5924e-04 - val_loss: 4.0616e-04\n",
      "Epoch 61/100\n",
      "41/41 [==============================] - 34s 840ms/step - loss: 1.5558e-04 - val_loss: 4.0724e-04\n",
      "Epoch 62/100\n",
      "41/41 [==============================] - 28s 691ms/step - loss: 1.8009e-04 - val_loss: 4.0954e-04\n",
      "Epoch 63/100\n",
      "41/41 [==============================] - 28s 692ms/step - loss: 1.5622e-04 - val_loss: 4.3189e-04\n",
      "Epoch 64/100\n",
      "41/41 [==============================] - 33s 813ms/step - loss: 1.6923e-04 - val_loss: 4.0841e-04\n",
      "Epoch 65/100\n",
      "41/41 [==============================] - 37s 896ms/step - loss: 1.4725e-04 - val_loss: 7.4885e-04\n",
      "Epoch 66/100\n",
      "41/41 [==============================] - 28s 685ms/step - loss: 1.4328e-04 - val_loss: 4.0569e-04\n",
      "Epoch 67/100\n",
      "41/41 [==============================] - 29s 718ms/step - loss: 1.3269e-04 - val_loss: 4.3084e-04\n",
      "Epoch 68/100\n",
      "41/41 [==============================] - 32s 789ms/step - loss: 1.3829e-04 - val_loss: 4.2989e-04\n",
      "Epoch 69/100\n",
      "41/41 [==============================] - 36s 884ms/step - loss: 1.3710e-04 - val_loss: 5.6185e-04\n",
      "Epoch 70/100\n",
      "41/41 [==============================] - 29s 699ms/step - loss: 1.3166e-04 - val_loss: 4.4974e-04\n",
      "Epoch 71/100\n",
      "41/41 [==============================] - 28s 690ms/step - loss: 1.3711e-04 - val_loss: 4.4487e-04\n",
      "Epoch 72/100\n",
      "41/41 [==============================] - 28s 680ms/step - loss: 1.6091e-04 - val_loss: 4.9951e-04\n",
      "Epoch 73/100\n",
      "41/41 [==============================] - 28s 686ms/step - loss: 1.5118e-04 - val_loss: 4.8131e-04\n",
      "Epoch 74/100\n",
      "41/41 [==============================] - 30s 721ms/step - loss: 1.4585e-04 - val_loss: 5.0852e-04\n",
      "Epoch 75/100\n",
      "41/41 [==============================] - 29s 710ms/step - loss: 1.5881e-04 - val_loss: 4.4537e-04\n",
      "Epoch 76/100\n"
     ]
    },
    {
     "name": "stdout",
     "output_type": "stream",
     "text": [
      "41/41 [==============================] - 28s 685ms/step - loss: 1.2102e-04 - val_loss: 4.3886e-04\n",
      "Epoch 77/100\n",
      "41/41 [==============================] - 27s 667ms/step - loss: 1.4639e-04 - val_loss: 5.8277e-04\n",
      "Epoch 78/100\n",
      "41/41 [==============================] - 28s 694ms/step - loss: 1.3176e-04 - val_loss: 4.4437e-04\n",
      "Epoch 79/100\n",
      "41/41 [==============================] - 28s 675ms/step - loss: 1.2437e-04 - val_loss: 4.4733e-04\n",
      "Epoch 80/100\n",
      "41/41 [==============================] - 28s 691ms/step - loss: 1.4742e-04 - val_loss: 5.6559e-04\n",
      "Epoch 81/100\n",
      "41/41 [==============================] - 28s 674ms/step - loss: 1.2324e-04 - val_loss: 4.7166e-04\n",
      "Epoch 82/100\n",
      "41/41 [==============================] - 28s 681ms/step - loss: 1.2994e-04 - val_loss: 4.9630e-04\n",
      "Epoch 83/100\n",
      "41/41 [==============================] - 33s 815ms/step - loss: 1.2607e-04 - val_loss: 4.9305e-04\n",
      "Epoch 84/100\n",
      "41/41 [==============================] - 29s 704ms/step - loss: 1.2791e-04 - val_loss: 4.5940e-04\n",
      "Epoch 85/100\n",
      "41/41 [==============================] - 29s 721ms/step - loss: 1.2469e-04 - val_loss: 4.7600e-04\n",
      "Epoch 86/100\n",
      "41/41 [==============================] - 30s 745ms/step - loss: 1.1827e-04 - val_loss: 4.5305e-04\n",
      "Epoch 87/100\n",
      "41/41 [==============================] - 32s 776ms/step - loss: 1.1752e-04 - val_loss: 7.2922e-04\n",
      "Epoch 88/100\n",
      "41/41 [==============================] - 29s 711ms/step - loss: 1.3366e-04 - val_loss: 4.5243e-04\n",
      "Epoch 89/100\n",
      "41/41 [==============================] - 28s 684ms/step - loss: 1.2797e-04 - val_loss: 4.7862e-04\n",
      "Epoch 90/100\n",
      "41/41 [==============================] - 27s 669ms/step - loss: 1.2812e-04 - val_loss: 4.4198e-04\n",
      "Epoch 91/100\n",
      "41/41 [==============================] - 28s 674ms/step - loss: 1.2145e-04 - val_loss: 4.8257e-04\n",
      "Epoch 92/100\n",
      "41/41 [==============================] - 31s 771ms/step - loss: 1.2057e-04 - val_loss: 4.4698e-04\n",
      "Epoch 93/100\n",
      "41/41 [==============================] - 29s 698ms/step - loss: 1.2180e-04 - val_loss: 4.5031e-04\n",
      "Epoch 94/100\n",
      "41/41 [==============================] - 28s 690ms/step - loss: 1.2416e-04 - val_loss: 7.4572e-04\n",
      "Epoch 95/100\n",
      "41/41 [==============================] - 29s 703ms/step - loss: 1.4871e-04 - val_loss: 4.6839e-04\n",
      "Epoch 96/100\n",
      "41/41 [==============================] - 28s 681ms/step - loss: 1.3268e-04 - val_loss: 4.3069e-04\n",
      "Epoch 97/100\n",
      "41/41 [==============================] - 28s 682ms/step - loss: 1.6644e-04 - val_loss: 5.2060e-04\n",
      "Epoch 98/100\n",
      "41/41 [==============================] - 28s 683ms/step - loss: 1.2757e-04 - val_loss: 4.2334e-04\n",
      "Epoch 99/100\n",
      "41/41 [==============================] - 27s 668ms/step - loss: 1.2298e-04 - val_loss: 4.4313e-04\n",
      "Epoch 100/100\n",
      "41/41 [==============================] - 27s 672ms/step - loss: 1.2114e-04 - val_loss: 4.5493e-04\n"
     ]
    },
    {
     "data": {
      "text/plain": [
       "<keras.src.callbacks.History at 0x2bb40fb0f90>"
      ]
     },
     "execution_count": 25,
     "metadata": {},
     "output_type": "execute_result"
    }
   ],
   "source": [
    "model.fit(X_train,y_train,validation_data=(X_test,y_test),epochs=100,batch_size=64,verbose=1) "
   ]
  },
  {
   "cell_type": "code",
   "execution_count": 26,
   "id": "4609b76a",
   "metadata": {},
   "outputs": [],
   "source": [
    "import tensorflow as tf"
   ]
  },
  {
   "cell_type": "markdown",
   "id": "92b69cce",
   "metadata": {},
   "source": [
    "# Prediction and check-perpofmance"
   ]
  },
  {
   "cell_type": "code",
   "execution_count": 27,
   "id": "520cc343",
   "metadata": {},
   "outputs": [
    {
     "name": "stdout",
     "output_type": "stream",
     "text": [
      "81/81 [==============================] - 16s 127ms/step\n",
      "43/43 [==============================] - 6s 128ms/step\n"
     ]
    }
   ],
   "source": [
    "train_predict=model.predict(X_train)\n",
    "test_predict=model.predict(X_test)"
   ]
  },
  {
   "cell_type": "code",
   "execution_count": 28,
   "id": "92fe0b6a",
   "metadata": {},
   "outputs": [
    {
     "name": "stdout",
     "output_type": "stream",
     "text": [
      "81/81 [==============================] - 10s 124ms/step\n",
      "43/43 [==============================] - 5s 126ms/step\n"
     ]
    }
   ],
   "source": [
    "train_predict=model.predict(X_train)\n",
    "test_predict=model.predict(X_test)"
   ]
  },
  {
   "cell_type": "code",
   "execution_count": 29,
   "id": "8b35b0a4",
   "metadata": {},
   "outputs": [
    {
     "data": {
      "text/plain": [
       "0.011092148029942336"
      ]
     },
     "execution_count": 29,
     "metadata": {},
     "output_type": "execute_result"
    }
   ],
   "source": [
    "import math\n",
    "from sklearn.metrics import mean_squared_error\n",
    "math.sqrt(mean_squared_error(y_train,train_predict))"
   ]
  },
  {
   "cell_type": "code",
   "execution_count": 30,
   "id": "09a90b74",
   "metadata": {},
   "outputs": [
    {
     "data": {
      "text/plain": [
       "0.011092148029942336"
      ]
     },
     "execution_count": 30,
     "metadata": {},
     "output_type": "execute_result"
    }
   ],
   "source": [
    "# Test Data RMSE\n",
    "math.sqrt(mean_squared_error(y_train,train_predict))"
   ]
  },
  {
   "cell_type": "markdown",
   "id": "84418ea1",
   "metadata": {},
   "source": [
    "Plotting"
   ]
  },
  {
   "cell_type": "code",
   "execution_count": 32,
   "id": "7369a2dc",
   "metadata": {},
   "outputs": [
    {
     "data": {
      "text/plain": [
       "<function matplotlib.pyplot.show(close=None, block=None)>"
      ]
     },
     "execution_count": 32,
     "metadata": {},
     "output_type": "execute_result"
    },
    {
     "data": {
      "image/png": "[encoded data removed]",
      "text/plain": [
       "<Figure size 640x480 with 1 Axes>"
      ]
     },
     "metadata": {},
     "output_type": "display_data"
    }
   ],
   "source": [
    "## Shift train predictions for plotting\n",
    "look_back=100\n",
    "trainPredictPlot = numpy.empty_like(df1)\n",
    "trainPredictPlot[:, :] = np.nan\n",
    "trainPredictPlot[look_back:len(train_predict)+look_back, :] = train_predict\n",
    "### Shift test predictions for plotting\n",
    "testPredictPlot = numpy.empty_like(df1)\n",
    "testPredictPlot[:, :]= numpy.nan\n",
    "testPredictPlot[len(train_predict)+(look_back*2)+1:len(df1)-1, :] = test_predict\n",
    "### plot baseline and predictions\n",
    "plt.plot(scaler.inverse_transform(df1))\n",
    "plt.plot(trainPredictPlot)\n",
    "plt.plot(testPredictPlot)\n",
    "plt.show"
   ]
  },
  {
   "cell_type": "code",
   "execution_count": null,
   "id": "071a9b2a",
   "metadata": {},
   "outputs": [],
   "source": []
  }
 ],
 "metadata": {
  "kernelspec": {
   "display_name": "Python 3 (ipykernel)",
   "language": "python",
   "name": "python3"
  },
  "language_info": {
   "codemirror_mode": {
    "name": "ipython",
    "version": 3
   },
   "file_extension": ".py",
   "mimetype": "text/x-python",
   "name": "python",
   "nbconvert_exporter": "python",
   "pygments_lexer": "ipython3",
   "version": "3.11.5"
  }
 },
 "nbformat": 4,
 "nbformat_minor": 5
}
